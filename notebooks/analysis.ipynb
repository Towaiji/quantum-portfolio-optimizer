{
 "cells": [
  {
   "cell_type": "code",
   "execution_count": null,
   "metadata": {
    "vscode": {
     "languageId": "plaintext"
    }
   },
   "outputs": [],
   "source": [
    "import pandas as pd\n",
    "import numpy as np\n",
    "import matplotlib.pyplot as plt\n",
    "import seaborn as sns\n",
    "\n",
    "# For displaying plots inline\n",
    "%matplotlib inline\n",
    "\n",
    "# Load the cleaned stock data from CSV\n",
    "data = pd.read_csv('../data/stock_data.csv', index_col=0, parse_dates=True)\n",
    "print(\"Stock Data Head:\")\n",
    "print(data.head())"
   ]
  },
  {
   "cell_type": "code",
   "execution_count": null,
   "metadata": {
    "vscode": {
     "languageId": "plaintext"
    }
   },
   "outputs": [],
   "source": [
    "# Plot stock prices over time\n",
    "plt.figure(figsize=(12, 6))\n",
    "for col in data.columns:\n",
    "    plt.plot(data.index, data[col], label=col)\n",
    "plt.xlabel(\"Date\")\n",
    "plt.ylabel(\"Adjusted Close Price\")\n",
    "plt.title(\"Historical Stock Prices\")\n",
    "plt.legend()\n",
    "plt.show()"
   ]
  },
  {
   "cell_type": "code",
   "execution_count": null,
   "metadata": {
    "vscode": {
     "languageId": "plaintext"
    }
   },
   "outputs": [],
   "source": [
    "# Calculate daily returns\n",
    "daily_returns = data.pct_change().dropna()\n",
    "\n",
    "# Plot daily returns for each stock\n",
    "plt.figure(figsize=(12, 6))\n",
    "for col in daily_returns.columns:\n",
    "    plt.plot(daily_returns.index, daily_returns[col], label=col)\n",
    "plt.xlabel(\"Date\")\n",
    "plt.ylabel(\"Daily Returns\")\n",
    "plt.title(\"Daily Returns of Stocks\")\n",
    "plt.legend()\n",
    "plt.show()\n",
    "\n",
    "# Summary statistics for daily returns\n",
    "print(\"Daily Returns Statistics:\")\n",
    "print(daily_returns.describe())"
   ]
  },
  {
   "cell_type": "code",
   "execution_count": null,
   "metadata": {
    "vscode": {
     "languageId": "plaintext"
    }
   },
   "outputs": [],
   "source": [
    "# Annualize returns and covariance (assuming 252 trading days)\n",
    "mu = daily_returns.mean() * 252\n",
    "Sigma = daily_returns.cov() * 252\n",
    "\n",
    "print(\"Annualized Mean Returns (mu):\")\n",
    "print(mu)\n",
    "\n",
    "print(\"\\nAnnualized Covariance Matrix (Sigma):\")\n",
    "print(Sigma)\n",
    "\n",
    "# Bar plot for annualized mean returns\n",
    "plt.figure(figsize=(8, 4))\n",
    "sns.barplot(x=mu.index, y=mu.values)\n",
    "plt.xlabel(\"Stock\")\n",
    "plt.ylabel(\"Annualized Return\")\n",
    "plt.title(\"Annualized Mean Returns\")\n",
    "plt.show()\n",
    "\n",
    "# Heatmap for covariance matrix\n",
    "plt.figure(figsize=(8, 6))\n",
    "sns.heatmap(Sigma, annot=True, fmt=\".2f\", xticklabels=Sigma.columns, yticklabels=Sigma.columns)\n",
    "plt.title(\"Annualized Covariance Matrix\")\n",
    "plt.show()"
   ]
  },
  {
   "cell_type": "code",
   "execution_count": null,
   "metadata": {
    "vscode": {
     "languageId": "plaintext"
    }
   },
   "outputs": [],
   "source": [
    "# Example: Load the QUBO matrix from a file or variable if you saved it\n",
    "# For demonstration, we'll reconstruct dummy data from your problem_formulation.py module.\n",
    "\n",
    "from problem_formulation import construct_qubo\n",
    "\n",
    "# Here, replace mu and Sigma with your computed values if needed:\n",
    "mu_values = mu.values  # convert Series to numpy array\n",
    "Sigma_values = Sigma.values\n",
    "\n",
    "# Set the desired number of stocks (for example, select 2 out of 5)\n",
    "K = 2\n",
    "Q = construct_qubo(mu_values, Sigma_values, K, lambda_val=1.0, gamma=10.0)\n",
    "\n",
    "print(\"Constructed QUBO matrix:\")\n",
    "print(Q)\n",
    "\n",
    "# Visualize the QUBO matrix as a heatmap\n",
    "plt.figure(figsize=(8, 6))\n",
    "sns.heatmap(Q, annot=True, cmap='coolwarm')\n",
    "plt.title(\"QUBO Matrix\")\n",
    "plt.xlabel(\"Variable Index\")\n",
    "plt.ylabel(\"Variable Index\")\n",
    "plt.show()"
   ]
  },
  {
   "cell_type": "code",
   "execution_count": null,
   "metadata": {
    "vscode": {
     "languageId": "plaintext"
    }
   },
   "outputs": [],
   "source": []
  }
 ],
 "metadata": {
  "language_info": {
   "name": "python"
  }
 },
 "nbformat": 4,
 "nbformat_minor": 2
}
